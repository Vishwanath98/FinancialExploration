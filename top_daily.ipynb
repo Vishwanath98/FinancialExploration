{
 "cells": [
  {
   "cell_type": "code",
   "execution_count": 1,
   "id": "d588d1b6",
   "metadata": {},
   "outputs": [],
   "source": [
    "import requests\n",
    "import http.client\n",
    "import pandas as pd\n",
    "import json"
   ]
  },
  {
   "cell_type": "code",
   "execution_count": 2,
   "id": "516d7a6a",
   "metadata": {},
   "outputs": [],
   "source": [
    "ticker_dict={'Technology':['MSFT', 'AAPL', 'AMZN', 'GOOGL','META'],\n",
    "'Financial':['JPM', 'BAC', 'WFC', 'GS','C'],\n",
    "'Healthcare':['JNJ', 'PFE', 'MRK', 'UNH', 'AMGN'],\n",
    "'Consumer Discretionary':['NFLX', 'DIS', 'TSLA', 'NKE', 'MCD'],\n",
    "'Consumer Staples':['PG', 'KO', 'PEP', 'WMT', 'COST'],\n",
    "'Energy':['XOM', 'CVX', 'SLB', 'COP'],#, 'RDS.A'  \n",
    "'Utilities':['NEE', 'DUK','D','AEP','SO'],\n",
    "'Industrials':['GE','BA','CAT','FDX','MMM'],\n",
    "'Materials':['DOW','ECL','EXP','NUE','DD'],\n",
    "'Real Estate':['AMT','SPG','PLD','LEN','EQR']\n",
    "            }"
   ]
  },
  {
   "cell_type": "code",
   "execution_count": 3,
   "id": "3a2861d0",
   "metadata": {},
   "outputs": [],
   "source": [
    "def topgl():\n",
    "    \n",
    "    top_gl_url = 'https://www.alphavantage.co/query?function=TOP_GAINERS_LOSERS&apikey=OEW6DWI5S3P1B2N1' # API key\n",
    "\n",
    "\n",
    "    r = requests.get(top_gl_url)\n",
    "    data = r.json()\n",
    "    \n",
    "    print(data)\n",
    "    \n",
    "    top_gainers_df = pd.DataFrame(data['top_gainers'])\n",
    "    top_losers_df = pd.DataFrame(data['top_losers'])\n",
    "    most_actively_traded_df = pd.DataFrame(data['most_actively_traded'])\n",
    "    \n",
    "    top_gainers_df['category'] = 'Top Gainers'\n",
    "    top_losers_df['category'] = 'Top Losers'\n",
    "    most_actively_traded_df['category'] = 'Most Actively Traded'\n",
    "\n",
    "    # Concatenate the DataFrames vertically\n",
    "    merged_df = pd.concat([top_gainers_df, top_losers_df, most_actively_traded_df], ignore_index=True)\n",
    "    merged_df['change_percentage'] = merged_df['change_percentage'].replace('%', '', regex=True)\n",
    "\n",
    "    # Convert columns to numeric if needed\n",
    "    numeric_columns = ['price', 'change_amount', 'change_percentage', 'volume']\n",
    "    merged_df[numeric_columns] = merged_df[numeric_columns].apply(pd.to_numeric, errors='coerce')\n",
    "    \n",
    "    return merged_df"
   ]
  },
  {
   "cell_type": "code",
   "execution_count": 4,
   "id": "f6111ca9",
   "metadata": {},
   "outputs": [
    {
     "ename": "KeyError",
     "evalue": "'top_gainers'",
     "output_type": "error",
     "traceback": [
      "\u001b[1;31m---------------------------------------------------------------------------\u001b[0m",
      "\u001b[1;31mKeyError\u001b[0m                                  Traceback (most recent call last)",
      "Cell \u001b[1;32mIn[4], line 1\u001b[0m\n\u001b[1;32m----> 1\u001b[0m merged_df\u001b[38;5;241m=\u001b[39m\u001b[43mtopgl\u001b[49m\u001b[43m(\u001b[49m\u001b[43m)\u001b[49m\n",
      "Cell \u001b[1;32mIn[3], line 9\u001b[0m, in \u001b[0;36mtopgl\u001b[1;34m()\u001b[0m\n\u001b[0;32m      6\u001b[0m r \u001b[38;5;241m=\u001b[39m requests\u001b[38;5;241m.\u001b[39mget(top_gl_url)\n\u001b[0;32m      7\u001b[0m data \u001b[38;5;241m=\u001b[39m r\u001b[38;5;241m.\u001b[39mjson()\n\u001b[1;32m----> 9\u001b[0m top_gainers_df \u001b[38;5;241m=\u001b[39m pd\u001b[38;5;241m.\u001b[39mDataFrame(\u001b[43mdata\u001b[49m\u001b[43m[\u001b[49m\u001b[38;5;124;43m'\u001b[39;49m\u001b[38;5;124;43mtop_gainers\u001b[39;49m\u001b[38;5;124;43m'\u001b[39;49m\u001b[43m]\u001b[49m)\n\u001b[0;32m     10\u001b[0m top_losers_df \u001b[38;5;241m=\u001b[39m pd\u001b[38;5;241m.\u001b[39mDataFrame(data[\u001b[38;5;124m'\u001b[39m\u001b[38;5;124mtop_losers\u001b[39m\u001b[38;5;124m'\u001b[39m])\n\u001b[0;32m     11\u001b[0m most_actively_traded_df \u001b[38;5;241m=\u001b[39m pd\u001b[38;5;241m.\u001b[39mDataFrame(data[\u001b[38;5;124m'\u001b[39m\u001b[38;5;124mmost_actively_traded\u001b[39m\u001b[38;5;124m'\u001b[39m])\n",
      "\u001b[1;31mKeyError\u001b[0m: 'top_gainers'"
     ]
    }
   ],
   "source": [
    "merged_df=topgl()"
   ]
  },
  {
   "cell_type": "code",
   "execution_count": null,
   "id": "239542d1",
   "metadata": {},
   "outputs": [],
   "source": [
    "merged_df.to_csv('day_topstocks.csv', index=True)"
   ]
  },
  {
   "cell_type": "code",
   "execution_count": null,
   "id": "04a58168",
   "metadata": {},
   "outputs": [],
   "source": []
  }
 ],
 "metadata": {
  "kernelspec": {
   "display_name": "Python 3 (ipykernel)",
   "language": "python",
   "name": "python3"
  },
  "language_info": {
   "codemirror_mode": {
    "name": "ipython",
    "version": 3
   },
   "file_extension": ".py",
   "mimetype": "text/x-python",
   "name": "python",
   "nbconvert_exporter": "python",
   "pygments_lexer": "ipython3",
   "version": "3.10.12"
  }
 },
 "nbformat": 4,
 "nbformat_minor": 5
}
